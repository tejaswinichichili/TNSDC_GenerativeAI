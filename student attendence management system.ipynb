{
  "nbformat": 4,
  "nbformat_minor": 0,
  "metadata": {
    "colab": {
      "provenance": []
    },
    "kernelspec": {
      "name": "python3",
      "display_name": "Python 3"
    },
    "language_info": {
      "name": "python"
    }
  },
  "cells": [
    {
      "cell_type": "code",
      "execution_count": 1,
      "metadata": {
        "colab": {
          "base_uri": "https://localhost:8080/"
        },
        "id": "8LEYbmZUgyVb",
        "outputId": "2d0aa8a3-ec19-4005-cc97-ef64acf0c054"
      },
      "outputs": [
        {
          "output_type": "stream",
          "name": "stdout",
          "text": [
            "Student John Doe added successfully.\n",
            "Student Jane Smith added successfully.\n",
            "Attendance marked successfully.\n",
            "Attendance marked successfully.\n",
            "Attendance for John Doe:\n",
            "Date: 2024-04-01, Status: Present\n",
            "Attendance for Jane Smith:\n",
            "Date: 2024-04-01, Status: Absent\n"
          ]
        }
      ],
      "source": [
        "# Importing necessary libraries\n",
        "import pandas as pd\n",
        "import numpy as np\n",
        "from sklearn.model_selection import train_test_split\n",
        "from sklearn.linear_model import LinearRegression\n",
        "from sklearn.metrics import mean_squared_error\n",
        "\n",
        "# Load the dataset\n",
        "data = pd.read_csv('/content/student attendence management system.csv')\n",
        "class Student:\n",
        "    def __init__(self, name, student_id):\n",
        "        self.name = name\n",
        "        self.student_id = student_id\n",
        "        self.attendance = {}\n",
        "\n",
        "    def mark_attendance(self, date, status):\n",
        "        self.attendance[date] = status\n",
        "\n",
        "class AttendanceManager:\n",
        "    def __init__(self):\n",
        "        self.students = {}\n",
        "\n",
        "    def add_student(self, name, student_id):\n",
        "        if student_id not in self.students:\n",
        "            self.students[student_id] = Student(name, student_id)\n",
        "            print(f\"Student {name} added successfully.\")\n",
        "        else:\n",
        "            print(\"Student ID already exists.\")\n",
        "\n",
        "    def mark_attendance(self, student_id, date, status):\n",
        "        if student_id in self.students:\n",
        "            self.students[student_id].mark_attendance(date, status)\n",
        "            print(\"Attendance marked successfully.\")\n",
        "        else:\n",
        "            print(\"Student ID not found.\")\n",
        "\n",
        "    def display_attendance(self, student_id):\n",
        "        if student_id in self.students:\n",
        "            student = self.students[student_id]\n",
        "            print(f\"Attendance for {student.name}:\")\n",
        "            for date, status in student.attendance.items():\n",
        "                print(f\"Date: {date}, Status: {status}\")\n",
        "        else:\n",
        "            print(\"Student ID not found.\")\n",
        "\n",
        "# Usage example\n",
        "if __name__ == \"__main__\":\n",
        "    attendance_manager = AttendanceManager()\n",
        "\n",
        "    # Adding students\n",
        "    attendance_manager.add_student(\"John Doe\", 1)\n",
        "    attendance_manager.add_student(\"Jane Smith\", 2)\n",
        "\n",
        "    # Marking attendance\n",
        "    attendance_manager.mark_attendance(1, \"2024-04-01\", \"Present\")\n",
        "    attendance_manager.mark_attendance(2, \"2024-04-01\", \"Absent\")\n",
        "\n",
        "    # Displaying attendance\n",
        "    attendance_manager.display_attendance(1)\n",
        "    attendance_manager.display_attendance(2)\n",
        "\n"
      ]
    }
  ]
}